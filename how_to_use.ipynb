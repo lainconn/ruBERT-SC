{
 "cells": [
  {
   "cell_type": "code",
   "execution_count": 4,
   "metadata": {},
   "outputs": [],
   "source": [
    "import torch\n",
    "from torch import nn\n",
    "from torch.utils.data import DataLoader\n",
    "from transformers import (AutoTokenizer, AutoModel, AutoConfig,\n",
    "                          DataCollatorWithPadding)\n",
    "from transformers.modeling_outputs import SequenceClassifierOutput\n",
    "from datasets import load_dataset\n",
    "import numpy as np\n",
    "import json\n",
    "import sklearn"
   ]
  },
  {
   "cell_type": "code",
   "execution_count": 5,
   "metadata": {},
   "outputs": [],
   "source": [
    "TOKEN_PATH = \"?\"\n",
    "MODEL_PATH = \"?\"\n",
    "DATA_PATH = \"?\"\n",
    "WEIGHTS_PATH = \"?\"\n",
    "CLASS_JSON = \"?\"\n",
    "NUM_CLASSES = 30"
   ]
  },
  {
   "cell_type": "code",
   "execution_count": 6,
   "metadata": {},
   "outputs": [],
   "source": [
    "dataset = load_dataset(\n",
    "    \"csv\",\n",
    "    data_files = DATA_PATH\n",
    ")"
   ]
  },
  {
   "cell_type": "code",
   "execution_count": 7,
   "metadata": {},
   "outputs": [],
   "source": [
    "def one_hotting(example):\n",
    "    if isinstance(example['labels'], str):\n",
    "        sep_labels = example['labels'].split(\", \")\n",
    "        one_hot = np.zeros(NUM_CLASSES)\n",
    "        \n",
    "        for lbl in sep_labels:\n",
    "            one_hot[int(lbl)] = 1\n",
    "        \n",
    "        example['labels'] = one_hot.tolist()\n",
    "    return example\n",
    "\n",
    "mod_dataset = dataset.map(one_hotting)"
   ]
  },
  {
   "cell_type": "code",
   "execution_count": 8,
   "metadata": {},
   "outputs": [],
   "source": [
    "tokenizer = AutoTokenizer.from_pretrained(TOKEN_PATH)\n",
    "\n",
    "def preprocess_function(examples):\n",
    "    return tokenizer(examples[\"texts\"], truncation=True, padding=True)\n",
    "\n",
    "encoded_dataset = mod_dataset.map(preprocess_function, batched=True)"
   ]
  },
  {
   "cell_type": "code",
   "execution_count": 9,
   "metadata": {},
   "outputs": [],
   "source": [
    "encoded_dataset.set_format(\"torch\",columns=[\"input_ids\",\n",
    "                                          \"attention_mask\", \n",
    "                                          \"labels\"])"
   ]
  },
  {
   "cell_type": "code",
   "execution_count": 10,
   "metadata": {},
   "outputs": [],
   "source": [
    "collater = DataCollatorWithPadding(\n",
    "    tokenizer=tokenizer,\n",
    "    pad_to_multiple_of=True\n",
    ")"
   ]
  },
  {
   "cell_type": "code",
   "execution_count": 11,
   "metadata": {},
   "outputs": [],
   "source": [
    "eval_dataloader = DataLoader(\n",
    "    encoded_dataset[\"train\"], batch_size=10, collate_fn=collater\n",
    ")"
   ]
  },
  {
   "cell_type": "code",
   "execution_count": 12,
   "metadata": {},
   "outputs": [],
   "source": [
    "rubert_model = AutoModel.from_pretrained(MODEL_PATH,\n",
    "                                         trust_remote_code=True,\n",
    "                                        config=AutoConfig.from_pretrained(MODEL_PATH,\n",
    "                                                                          return_unused_kwargs=True,\n",
    "                                                                          output_hidden_states=True))"
   ]
  },
  {
   "cell_type": "code",
   "execution_count": 13,
   "metadata": {},
   "outputs": [],
   "source": [
    "class CustomModel(nn.Module):\n",
    "    def __init__(self, model, num_labels):\n",
    "        super(CustomModel,self).__init__()\n",
    "        self.num_labels = num_labels\n",
    "        self.model = model\n",
    "        self.dropout = nn.Dropout(0.2)\n",
    "        self.classifier = nn.Linear(model.config.hidden_size,num_labels)\n",
    "        \n",
    "    def forward(self, input_ids, attention_mask, token_type_ids=None, labels=None):\n",
    "        outputs = self.model(input_ids=input_ids,\n",
    "                             attention_mask=attention_mask,\n",
    "                             token_type_ids=token_type_ids)\n",
    "        pooled_output = outputs.last_hidden_state\n",
    "        x = self.dropout(pooled_output)\n",
    "        logits = self.classifier(x[:, 0, :].view(-1,self.model.config.hidden_size))\n",
    "        \n",
    "        loss=None\n",
    "        if labels is not None:\n",
    "            loss_fct = nn.BCEWithLogitsLoss()\n",
    "            loss = loss_fct(logits.view(-1, self.num_labels), labels.view(-1, self.num_labels))\n",
    "        \n",
    "        return SequenceClassifierOutput(loss=loss, logits=logits)"
   ]
  },
  {
   "cell_type": "code",
   "execution_count": 14,
   "metadata": {},
   "outputs": [],
   "source": [
    "device = torch.device(\"cuda\" if torch.cuda.is_available() else \"cpu\")\n",
    "model = CustomModel(rubert_model,30).to(device)"
   ]
  },
  {
   "cell_type": "code",
   "execution_count": 15,
   "metadata": {},
   "outputs": [
    {
     "name": "stderr",
     "output_type": "stream",
     "text": [
      "C:\\Users\\playf\\AppData\\Local\\Temp\\ipykernel_22308\\200911175.py:1: FutureWarning: You are using `torch.load` with `weights_only=False` (the current default value), which uses the default pickle module implicitly. It is possible to construct malicious pickle data which will execute arbitrary code during unpickling (See https://github.com/pytorch/pytorch/blob/main/SECURITY.md#untrusted-models for more details). In a future release, the default value for `weights_only` will be flipped to `True`. This limits the functions that could be executed during unpickling. Arbitrary objects will no longer be allowed to be loaded via this mode unless they are explicitly allowlisted by the user via `torch.serialization.add_safe_globals`. We recommend you start setting `weights_only=True` for any use case where you don't have full control of the loaded file. Please open an issue on GitHub for any issues related to this experimental feature.\n",
      "  stats = torch.load(WEIGHTS_PATH)\n"
     ]
    },
    {
     "data": {
      "text/plain": [
       "<All keys matched successfully>"
      ]
     },
     "execution_count": 15,
     "metadata": {},
     "output_type": "execute_result"
    }
   ],
   "source": [
    "stats = torch.load(WEIGHTS_PATH)\n",
    "\n",
    "model.load_state_dict(stats[\"state_dict\"])"
   ]
  },
  {
   "cell_type": "code",
   "execution_count": 16,
   "metadata": {},
   "outputs": [
    {
     "name": "stderr",
     "output_type": "stream",
     "text": [
      "c:\\Users\\playf\\AppData\\Local\\Programs\\Python\\Python312\\Lib\\site-packages\\transformers\\models\\bert\\modeling_bert.py:439: UserWarning: 1Torch was not compiled with flash attention. (Triggered internally at C:\\actions-runner\\_work\\pytorch\\pytorch\\builder\\windows\\pytorch\\aten\\src\\ATen\\native\\transformers\\cuda\\sdp_utils.cpp:555.)\n",
      "  attn_output = torch.nn.functional.scaled_dot_product_attention(\n"
     ]
    }
   ],
   "source": [
    "preds = []\n",
    "model.eval()\n",
    "for batch in eval_dataloader:\n",
    "    batch = {k: v.to(device) for k, v in batch.items()}\n",
    "    with torch.no_grad():\n",
    "        outputs = model(**batch)\n",
    "\n",
    "    logits = outputs.logits\n",
    "    activation = torch.sigmoid(logits)\n",
    "    predictions = (activation >= 0.5).float()\n",
    "    preds.append(predictions)\n",
    "    \n",
    "preds = torch.cat(preds, dim=0)"
   ]
  },
  {
   "cell_type": "code",
   "execution_count": 17,
   "metadata": {},
   "outputs": [],
   "source": [
    "with open(CLASS_JSON) as f:\n",
    "    d = json.load(f)\n",
    "\n",
    "labels = []\n",
    "\n",
    "for _,values in d.items():\n",
    "    labels.append(values)"
   ]
  },
  {
   "cell_type": "code",
   "execution_count": 18,
   "metadata": {},
   "outputs": [
    {
     "name": "stdout",
     "output_type": "stream",
     "text": [
      "                                                                                                                  precision    recall  f1-score   support\n",
      "\n",
      "                                                                                                           Other       0.97      0.97      0.97       332\n",
      "                                                                           Наименование юридического лица или ИП       1.00      0.91      0.95        34\n",
      "                                                                                               Юридический адрес       1.00      1.00      1.00        19\n",
      "                                                                                             Контактные телефоны       1.00      1.00      1.00         9\n",
      "                                                                                                          E-mail       1.00      0.96      0.98        23\n",
      "                                                                                        Режим работы организации       1.00      1.00      1.00         9\n",
      "                                                           Дата регистрации интернет-магазина в торговом реестре       1.00      1.00      1.00         4\n",
      "                                        Информация о государственном органе, зарегистрировавшем юридическое лицо       1.00      1.00      1.00         3\n",
      "                                                                         Описание процедуры заказа товара/услуги       0.94      0.85      0.89        20\n",
      "                                                                  Описание процедуры оплаты по банковским картам       0.94      0.97      0.95        30\n",
      "                                                                             Информация о доставке товара/услуги       1.00      1.00      1.00         9\n",
      "                                                                    Описание процедуры возврата денежных средств       0.92      1.00      0.96        12\n",
      "                                                                                             Наименование товара       0.89      0.86      0.87        28\n",
      "                                                                         Виды и особенности предлагаемого товара       0.76      1.00      0.86        16\n",
      "                                                           Сведения об основных потребительских свойствах товара       1.00      0.80      0.89        15\n",
      "                                                                                                     Цена товара       1.00      0.75      0.86         4\n",
      "                                                                                                Гарантийный срок       0.00      0.00      0.00         0\n",
      "                                                        Рекомендации и (или) ограничения по использованию товара       1.00      1.00      1.00         3\n",
      "                                          Дата изготовления / Срок службы / Срок годности / Срок хранения товара       1.00      0.81      0.90        16\n",
      "                                                                     Наименование и местонахождение изготовителя       1.00      1.00      1.00         7\n",
      "                                                                                     Страна происхождения товара       1.00      1.00      1.00         7\n",
      "Сведения об обязательном подтверждении соответствия товара, подлежащего обязательному подтверждению соответствия       0.00      0.00      0.00         0\n",
      "                                                                               Количество / комплектность товара       1.00      0.88      0.94        17\n",
      "                       Необходимые сведения о правилах и условиях эффективного и безопасного пользования товаром       0.00      0.00      0.00         0\n",
      "                                                                                             Наименование услуги       0.91      0.83      0.87        12\n",
      "                                                                          Виды и особенности предлагаемой услуги       0.00      0.00      0.00         0\n",
      "                                                           Сведения об основных потребительских свойствах услуги       1.00      0.78      0.88         9\n",
      "                                                                                                     Цена услуги       1.00      1.00      1.00        11\n",
      "                                                        Рекомендации и (или) ограничения по использованию услуги       0.00      0.00      0.00         0\n",
      "                                  Указание на конкретное лицо, которое будет выполнять работу (оказывать услугу)       0.00      0.00      0.00         0\n",
      "\n",
      "                                                                                                       micro avg       0.96      0.94      0.95       649\n",
      "                                                                                                       macro avg       0.78      0.75      0.76       649\n",
      "                                                                                                    weighted avg       0.96      0.94      0.95       649\n",
      "                                                                                                     samples avg       0.95      0.95      0.95       649\n",
      "\n"
     ]
    },
    {
     "name": "stderr",
     "output_type": "stream",
     "text": [
      "c:\\Users\\playf\\AppData\\Local\\Programs\\Python\\Python312\\Lib\\site-packages\\sklearn\\metrics\\_classification.py:1531: UndefinedMetricWarning: Precision is ill-defined and being set to 0.0 in labels with no predicted samples. Use `zero_division` parameter to control this behavior.\n",
      "  _warn_prf(average, modifier, f\"{metric.capitalize()} is\", len(result))\n",
      "c:\\Users\\playf\\AppData\\Local\\Programs\\Python\\Python312\\Lib\\site-packages\\sklearn\\metrics\\_classification.py:1531: UndefinedMetricWarning: Recall is ill-defined and being set to 0.0 in labels with no true samples. Use `zero_division` parameter to control this behavior.\n",
      "  _warn_prf(average, modifier, f\"{metric.capitalize()} is\", len(result))\n",
      "c:\\Users\\playf\\AppData\\Local\\Programs\\Python\\Python312\\Lib\\site-packages\\sklearn\\metrics\\_classification.py:1531: UndefinedMetricWarning: F-score is ill-defined and being set to 0.0 in labels with no true nor predicted samples. Use `zero_division` parameter to control this behavior.\n",
      "  _warn_prf(average, modifier, f\"{metric.capitalize()} is\", len(result))\n",
      "c:\\Users\\playf\\AppData\\Local\\Programs\\Python\\Python312\\Lib\\site-packages\\sklearn\\metrics\\_classification.py:1531: UndefinedMetricWarning: Precision is ill-defined and being set to 0.0 in samples with no predicted labels. Use `zero_division` parameter to control this behavior.\n",
      "  _warn_prf(average, modifier, f\"{metric.capitalize()} is\", len(result))\n"
     ]
    }
   ],
   "source": [
    "print(sklearn.metrics.classification_report(\n",
    "    encoded_dataset[\"train\"][\"labels\"].cpu().numpy(),\n",
    "    preds.cpu().numpy(),\n",
    "    target_names = labels\n",
    "))"
   ]
  }
 ],
 "metadata": {
  "kernelspec": {
   "display_name": "Python 3",
   "language": "python",
   "name": "python3"
  },
  "language_info": {
   "codemirror_mode": {
    "name": "ipython",
    "version": 3
   },
   "file_extension": ".py",
   "mimetype": "text/x-python",
   "name": "python",
   "nbconvert_exporter": "python",
   "pygments_lexer": "ipython3",
   "version": "3.12.2"
  }
 },
 "nbformat": 4,
 "nbformat_minor": 2
}
